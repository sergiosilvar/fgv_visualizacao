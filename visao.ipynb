{
 "metadata": {
  "name": ""
 },
 "nbformat": 3,
 "nbformat_minor": 0,
 "worksheets": [
  {
   "cells": [
    {
     "cell_type": "code",
     "collapsed": false,
     "input": [
      "import dimtanc as dt\n",
      "\n",
      "%pylab inline"
     ],
     "language": "python",
     "metadata": {},
     "outputs": [
      {
       "output_type": "stream",
       "stream": "stdout",
       "text": [
        "Populating the interactive namespace from numpy and matplotlib\n"
       ]
      }
     ],
     "prompt_number": 1
    },
    {
     "cell_type": "code",
     "collapsed": false,
     "input": [
      "cen = dt.CenarioDimensionamento(\n",
      "                nome = 'Cenario_Teste',                       \n",
      "                producao_mensal = 60000,\n",
      "                capacidade_tanque = 10000,\n",
      "                tempo_preparo = 0, # Unidades de Tempo.\n",
      "                tipo_modal_entrada = dt.TIPO_MODAL_CONTINUO,  \n",
      "                tipo_modal_saida = dt.TIPO_MODAL_DISCRETO,\n",
      "                numero_unidades_tempo = 30,\n",
      "                vazao_modal_entrada = None, \n",
      "                vazao_modal_saida = 30000, \n",
      "                volume_modal_entrada = None, \n",
      "                volume_modal_saida = 30000,\n",
      "                atraso_modal_saida = 0\n",
      "              )\n",
      "\n",
      "cen.dimensiona_tanques()\n",
      "\n",
      "json = cen.exporta_json()\n"
     ],
     "language": "python",
     "metadata": {},
     "outputs": [
      {
       "output_type": "stream",
       "stream": "stderr",
       "text": [
        "INFO :> 2014-04-11 14:59:38,595 :> In\ufffdcio da simula\ufffd\ufffdo de dimensionamento.\n"
       ]
      },
      {
       "output_type": "stream",
       "stream": "stderr",
       "text": [
        "INFO :> 2014-04-11 14:59:38,598 :> Fim da simula\ufffd\ufffdo de dimensionamento com 4 tanques.\n"
       ]
      }
     ],
     "prompt_number": 65
    },
    {
     "cell_type": "code",
     "collapsed": false,
     "input": [
      "dist_vazao = [30000, 30000, 30000, 0, 0, 0, 30000, 30000, 30000, 0, 0, 0,]\n",
      "\n",
      "ultima_pos = len(dist_vazao)-1\n",
      "max_atraso = 0\n",
      "for i in range(len(dist_vazao)-1,-1, -1):\n",
      "    if dist_vazao[i] > 0:\n",
      "        max_atraso = len(dist_vazao)-i-1\n",
      "        ultima_pos = i\n",
      "        break\n",
      "      \n",
      "#dist2 = [0 for j in range(len(dist)-i-1)] + dist[:i+1]\n",
      "print dist_vazao"
     ],
     "language": "python",
     "metadata": {},
     "outputs": [
      {
       "output_type": "stream",
       "stream": "stdout",
       "text": [
        "[30000, 30000, 30000, 0, 0, 0, 30000, 30000, 30000, 0, 0, 0]\n"
       ]
      }
     ],
     "prompt_number": 120
    },
    {
     "cell_type": "code",
     "collapsed": false,
     "input": [
      "ultima_pos,max_atraso"
     ],
     "language": "python",
     "metadata": {},
     "outputs": [
      {
       "metadata": {},
       "output_type": "pyout",
       "prompt_number": 121,
       "text": [
        "(8, 3)"
       ]
      }
     ],
     "prompt_number": 121
    },
    {
     "cell_type": "code",
     "collapsed": false,
     "input": [
      "atraso_modal =100\n",
      "if atraso_modal > max_atraso:\n",
      "    atraso_modal = max_atraso\n",
      "dist_vazao2 = [0 for j in range(atraso_modal)] + dist_vazao[:ultima_pos+1]+[0 for j in range(len(dist_vazao)-ultima_pos-atraso_modal-1)]\n",
      "print dist_vazao2"
     ],
     "language": "python",
     "metadata": {},
     "outputs": [
      {
       "output_type": "stream",
       "stream": "stdout",
       "text": [
        "[0, 0, 0, 30000, 30000, 30000, 0, 0, 0, 30000, 30000, 30000]\n"
       ]
      }
     ],
     "prompt_number": 132
    }
   ],
   "metadata": {}
  }
 ]
}