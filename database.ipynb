{
 "metadata": {
  "name": ""
 },
 "nbformat": 3,
 "nbformat_minor": 0,
 "worksheets": [
  {
   "cells": [
    {
     "cell_type": "code",
     "collapsed": false,
     "input": [
      "import os\n",
      "import json\n",
      "import itertools\n",
      "\n",
      "DIR = './json/'\n",
      "\n",
      "def dominio():\n",
      "    anos = [str(i) for i in range(2008,2014)]\n",
      "    meses = ['%02d'%i for i in range(1,13)]\n",
      "    result = list(itertools.product(anos,meses))\n",
      "    dominio = [x+'-'+y for x,y in result]\n",
      "    return dominio\n",
      "\n",
      "\n",
      "def dataset(estado, cidade, bairro, num_quartos):\n",
      "    fname = DIR+''+estado+'/'+cidade+'/'+bairro+'/%d_indices.json' % (num_quartos)\n",
      "    f = open(fname,'r')\n",
      "    ind = json.load(f)\n",
      "    #ind = pd.io.json.read_json(fname)     \n",
      "    f.close()\n",
      "    return ind\n",
      "    \n",
      "def indices(estado=None, cidade=None, bairro=None, num_quartos=0):\n",
      "    ds =  dataset(estado, cidade, bairro, num_quartos)[:(2013-2008+1)*12-1]\n",
      "    lista  = [Indice(x) for x in ds]\n",
      "    for ano_mes in dominio():\n",
      "        tem = False\n",
      "        for ind in lista:\n",
      "            if ind.ano_mes == ano_mes:\n",
      "                tem = True\n",
      "                break\n",
      "        if not tem:\n",
      "            vazio = Indice()\n",
      "            vazio.ano = int(ano_mes[:4])\n",
      "            vazio.mes = int(ano_mes[-2:])\n",
      "            lista.append(vazio)\n",
      "    return sorted(lista, key=lambda indice: indice.ano_mes)\n",
      "\n",
      "def lista_estados():\n",
      "    return os.listdir(DIR)\n",
      "\n",
      "def lista_cidades(estado=None):\n",
      "    return os.listdir(DIR+'/'+estado)\n",
      "\n",
      "def lista_bairros(estado,cidade):\n",
      "    return os.listdir(DIR+'/'+estado+'/'+cidade)\n",
      "\n",
      "class Zap(object):\n",
      "    def __init__(self):\n",
      "        pass\n",
      "    \n",
      "class Bairro(Zap):\n",
      "    def __init__(self,estado,cidade,bairro):\n",
      "        index_indice = 1\n",
      "        index_mes = 0\n",
      "        self.nome = bairro\n",
      "        self.cidade = cidade\n",
      "        self.estado = estado\n",
      "        self.indices = [indices(estado,cidade,bairro,i)[index_indice] for i in range(4)]\n",
      "        self.mes = indices(estado,cidade,bairro,0)[index_mes]\n",
      "    \n",
      "    def qt1(self):\n",
      "        return self.indices[1]\n",
      "    \n",
      "    def qt2(self):\n",
      "        return self.indices[2]\n",
      "    \n",
      "    def qt3(self):\n",
      "        return self.indices[3]\n",
      "    \n",
      "    def qt0(self):\n",
      "        return self.indices[0]\n",
      "    \n",
      "    def __repr__(self):\n",
      "        return self.nome\n",
      "    \n",
      "class Cidade(Zap):\n",
      "    def __init__(self, estado, cidade):\n",
      "        self.nome = cidade\n",
      "        self.estado = estado\n",
      "        self.bairros = {}\n",
      "    \n",
      "    def lista_bairros(self):\n",
      "        return lista_bairros(self.estado,self.nome)\n",
      "    \n",
      "    def bairro(self,nome_bairro):\n",
      "        return self.bairros.get(nome_bairro,Bairro(self.estado,self.nome,nome_bairro))\n",
      "\n",
      "class Indice(object):\n",
      "    def __init__(self,json=None):\n",
      "        if json != None:\n",
      "            self.ano = json['Ano']\n",
      "            self.valor = json['Valor']\n",
      "            self.mes = json['Mes']\n",
      "            self.var = json['Variacao']\n",
      "            self.var_m = json['VariacaoMensal']\n",
      "            self.amostras = json['Amostra']\n",
      "            #self.ano_mes =  self._ano_mes\n",
      "        else:\n",
      "            self.ano = 0\n",
      "            self.valor = 0\n",
      "            self.mes = 0\n",
      "            self.var = 0\n",
      "            self.var_m = 0\n",
      "            self.amostras = 0\n",
      "            #self.ano_mes =  self._ano_mes\n",
      "            \n",
      "    @property\n",
      "    def ano_mes(self):\n",
      "        return '%d-%02d'%(self.ano, self.mes)\n",
      "    \n",
      "    def __repr__(self):\n",
      "        return '%s: %f'%(self.ano_mes,self.valor)"
     ],
     "language": "python",
     "metadata": {},
     "outputs": [],
     "prompt_number": 132
    },
    {
     "cell_type": "code",
     "collapsed": false,
     "input": [],
     "language": "python",
     "metadata": {},
     "outputs": [],
     "prompt_number": 134
    },
    {
     "cell_type": "code",
     "collapsed": false,
     "input": [
      "%clear"
     ],
     "language": "python",
     "metadata": {},
     "outputs": [
      {
       "output_type": "stream",
       "stream": "stdout",
       "text": [
        "\f",
        "\n"
       ]
      }
     ],
     "prompt_number": 130
    },
    {
     "cell_type": "code",
     "collapsed": false,
     "input": [
      "%clear"
     ],
     "language": "python",
     "metadata": {},
     "outputs": [
      {
       "output_type": "stream",
       "stream": "stdout",
       "text": [
        "\f",
        "\n"
       ]
      }
     ],
     "prompt_number": 129
    },
    {
     "cell_type": "code",
     "collapsed": false,
     "input": [
      "%clear"
     ],
     "language": "python",
     "metadata": {},
     "outputs": [
      {
       "output_type": "stream",
       "stream": "stdout",
       "text": [
        "\f",
        "\n"
       ]
      }
     ],
     "prompt_number": 131
    }
   ],
   "metadata": {}
  }
 ]
}